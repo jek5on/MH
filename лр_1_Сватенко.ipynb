{
  "nbformat": 4,
  "nbformat_minor": 0,
  "metadata": {
    "colab": {
      "provenance": [],
      "authorship_tag": "ABX9TyMpH9+2L7iNfo3GVL6Ne5n3",
      "include_colab_link": true
    },
    "kernelspec": {
      "name": "python3",
      "display_name": "Python 3"
    },
    "language_info": {
      "name": "python"
    }
  },
  "cells": [
    {
      "cell_type": "markdown",
      "metadata": {
        "id": "view-in-github",
        "colab_type": "text"
      },
      "source": [
        "<a href=\"https://colab.research.google.com/github/jek5on/MH/blob/main/%D0%BB%D1%80_1_%D0%A1%D0%B2%D0%B0%D1%82%D0%B5%D0%BD%D0%BA%D0%BE.ipynb\" target=\"_parent\"><img src=\"https://colab.research.google.com/assets/colab-badge.svg\" alt=\"Open In Colab\"/></a>"
      ]
    },
    {
      "cell_type": "markdown",
      "source": [
        "#Лабораторна робота 1. Варіант 22.\n",
        "Виконати дії з матрицями"
      ],
      "metadata": {
        "id": "RyYbCp3SgJEJ"
      }
    },
    {
      "cell_type": "code",
      "source": [
        "import numpy as np\n",
        "\n",
        "def f(x, y):\n",
        "    return np.abs(x - y) / np.abs(x)\n",
        "\n",
        "def main():\n",
        "    x1 = np.sqrt(18)  # Точне значення sqrt(18)\n",
        "    x2 = 9 / 11  # Точне значення 9/11\n",
        "    x1_1 = 4.24  # Наближене значення sqrt(18)\n",
        "    x2_2 = 0.818  # Наближене значення 9/11\n",
        "\n",
        "    rel_error_x1 = f(x1, x1_1)\n",
        "    rel_error_x2 = f(x2, x2_2)\n",
        "\n",
        "    if rel_error_x1 < rel_error_x2:\n",
        "        print(\"Перша рівність точніше з відносною похибкою:\", round(rel_error_x1, 5))\n",
        "    elif rel_error_x2 < rel_error_x1:\n",
        "        print(\"Друга рівність точніше з відносною похибкою:\", round(rel_error_x2, 5))\n",
        "    else:\n",
        "        print(\"Обидві рівності мають однакову точність з відносною похибкою:\", round(rel_error_x2, 5))\n",
        "\n",
        "if __name__ == \"__main__\":\n",
        "    main()"
      ],
      "metadata": {
        "colab": {
          "base_uri": "https://localhost:8080/"
        },
        "id": "o_1dyGG8gdfL",
        "outputId": "9974f59f-b4ca-4731-a383-fa08609c0f5e"
      },
      "execution_count": 1,
      "outputs": [
        {
          "output_type": "stream",
          "name": "stdout",
          "text": [
            "Друга рівність точніше з відносною похибкою: 0.00022\n"
          ]
        }
      ]
    }
  ]
}