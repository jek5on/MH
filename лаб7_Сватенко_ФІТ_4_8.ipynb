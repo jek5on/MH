{
  "nbformat": 4,
  "nbformat_minor": 0,
  "metadata": {
    "colab": {
      "provenance": [],
      "authorship_tag": "ABX9TyNaG49R1PuUFsvd9jQYCm80",
      "include_colab_link": true
    },
    "kernelspec": {
      "name": "python3",
      "display_name": "Python 3"
    },
    "language_info": {
      "name": "python"
    }
  },
  "cells": [
    {
      "cell_type": "markdown",
      "metadata": {
        "id": "view-in-github",
        "colab_type": "text"
      },
      "source": [
        "<a href=\"https://colab.research.google.com/github/jek5on/MH/blob/main/%D0%BB%D0%B0%D0%B17_%D0%A1%D0%B2%D0%B0%D1%82%D0%B5%D0%BD%D0%BA%D0%BE_%D0%A4%D0%86%D0%A2_4_8.ipynb\" target=\"_parent\"><img src=\"https://colab.research.google.com/assets/colab-badge.svg\" alt=\"Open In Colab\"/></a>"
      ]
    },
    {
      "cell_type": "markdown",
      "source": [
        "**Сватенко ФІТ 4-8**\n",
        "\n",
        "**ЛАБОРАТОРНА РОБОТА 7**\n",
        "\n",
        "**Тема:** РЕКОМЕНДАЦІЙНІ СИСТЕМИ"
      ],
      "metadata": {
        "id": "Kb_Sa_X_fRs_"
      }
    },
    {
      "cell_type": "markdown",
      "source": [
        "**Завдання 1.**\n",
        "1. Завантажте датасет для рецензій (ml-100k) за допомогою бібліотеки\n",
        "Surprise.\n",
        "2. Виведіть перші 5 рядків завантаженого датасету.\n",
        "3. Реалізуйте два алгоритми для рекомендаційної системи на основі цього\n",
        "датасету. Можна вибрати будь-які алгоритми з бібліотеки Surprise.\n",
        "4. Використайте крос-валідацію для підбору оптимальних параметрів для\n",
        "обох алгоритмів.\n",
        "5. Оберіть найкращий алгоритм на основі середньої абсолютної помилки\n",
        "(MAE).\n",
        "6. Виведи рекомендації (10 фільмів) для конкретного користувача"
      ],
      "metadata": {
        "id": "fEtLutyPfRvc"
      }
    },
    {
      "cell_type": "code",
      "execution_count": 1,
      "metadata": {
        "colab": {
          "base_uri": "https://localhost:8080/"
        },
        "id": "29TS1R69fQai",
        "outputId": "ca5c311f-00fa-4062-9d71-4de07137efd6"
      },
      "outputs": [
        {
          "output_type": "stream",
          "name": "stdout",
          "text": [
            "Collecting scikit-surprise\n",
            "  Downloading scikit_surprise-1.1.4.tar.gz (154 kB)\n",
            "\u001b[?25l     \u001b[90m━━━━━━━━━━━━━━━━━━━━━━━━━━━━━━━━━━━━━━━━\u001b[0m \u001b[32m0.0/154.4 kB\u001b[0m \u001b[31m?\u001b[0m eta \u001b[36m-:--:--\u001b[0m\r\u001b[2K     \u001b[91m━━━━━━━━━━━━━━━━━━━━━━━━━━━━━\u001b[0m\u001b[90m╺\u001b[0m\u001b[90m━━━━━━━━━━\u001b[0m \u001b[32m112.6/154.4 kB\u001b[0m \u001b[31m3.0 MB/s\u001b[0m eta \u001b[36m0:00:01\u001b[0m\r\u001b[2K     \u001b[90m━━━━━━━━━━━━━━━━━━━━━━━━━━━━━━━━━━━━━━━━\u001b[0m \u001b[32m154.4/154.4 kB\u001b[0m \u001b[31m2.1 MB/s\u001b[0m eta \u001b[36m0:00:00\u001b[0m\n",
            "\u001b[?25h  Installing build dependencies ... \u001b[?25l\u001b[?25hdone\n",
            "  Getting requirements to build wheel ... \u001b[?25l\u001b[?25hdone\n",
            "  Preparing metadata (pyproject.toml) ... \u001b[?25l\u001b[?25hdone\n",
            "Requirement already satisfied: joblib>=1.2.0 in /usr/local/lib/python3.10/dist-packages (from scikit-surprise) (1.4.2)\n",
            "Requirement already satisfied: numpy>=1.19.5 in /usr/local/lib/python3.10/dist-packages (from scikit-surprise) (1.26.4)\n",
            "Requirement already satisfied: scipy>=1.6.0 in /usr/local/lib/python3.10/dist-packages (from scikit-surprise) (1.13.1)\n",
            "Building wheels for collected packages: scikit-surprise\n",
            "  Building wheel for scikit-surprise (pyproject.toml) ... \u001b[?25l\u001b[?25hdone\n",
            "  Created wheel for scikit-surprise: filename=scikit_surprise-1.1.4-cp310-cp310-linux_x86_64.whl size=2357293 sha256=544846218f724a291626f7772bac8b9eb68d88d27c5c1a7f2573ca55148c973f\n",
            "  Stored in directory: /root/.cache/pip/wheels/4b/3f/df/6acbf0a40397d9bf3ff97f582cc22fb9ce66adde75bc71fd54\n",
            "Successfully built scikit-surprise\n",
            "Installing collected packages: scikit-surprise\n",
            "Successfully installed scikit-surprise-1.1.4\n",
            "Dataset ml-100k could not be found. Do you want to download it? [Y/n] Y\n",
            "Trying to download dataset from https://files.grouplens.org/datasets/movielens/ml-100k.zip...\n",
            "Done! Dataset ml-100k has been saved to /root/.surprise_data/ml-100k\n",
            "  user item  rating  timestamp\n",
            "0  196  242     3.0  881250949\n",
            "1  186  302     3.0  891717742\n",
            "2   22  377     1.0  878887116\n",
            "3  244   51     2.0  880606923\n",
            "4  166  346     1.0  886397596\n",
            "Evaluating MAE of algorithm SVD on 5 split(s).\n",
            "\n",
            "                  Fold 1  Fold 2  Fold 3  Fold 4  Fold 5  Mean    Std     \n",
            "MAE (testset)     0.7365  0.7417  0.7442  0.7407  0.7368  0.7400  0.0029  \n",
            "Fit time          1.50    1.50    2.00    1.68    1.46    1.63    0.20    \n",
            "Test time         0.25    0.12    0.22    0.25    0.12    0.19    0.06    \n",
            "Computing the msd similarity matrix...\n",
            "Done computing similarity matrix.\n",
            "Computing the msd similarity matrix...\n",
            "Done computing similarity matrix.\n",
            "Computing the msd similarity matrix...\n",
            "Done computing similarity matrix.\n",
            "Computing the msd similarity matrix...\n",
            "Done computing similarity matrix.\n",
            "Computing the msd similarity matrix...\n",
            "Done computing similarity matrix.\n",
            "Evaluating MAE of algorithm KNNBasic on 5 split(s).\n",
            "\n",
            "                  Fold 1  Fold 2  Fold 3  Fold 4  Fold 5  Mean    Std     \n",
            "MAE (testset)     0.7796  0.7681  0.7703  0.7759  0.7690  0.7726  0.0044  \n",
            "Fit time          0.36    0.43    0.53    0.38    0.39    0.42    0.06    \n",
            "Test time         3.26    3.62    3.65    3.28    3.42    3.45    0.16    \n",
            "SVD MAE: 0.7399813727790386\n",
            "KNN Basic MAE: 0.7725768255562833\n",
            "Найкращий алгоритм: SVD\n",
            "Рекомендовані фільми для користувача 196:\n",
            "Фільм ID: 318, Прогнозована оцінка: 4.59\n",
            "Фільм ID: 408, Прогнозована оцінка: 4.57\n",
            "Фільм ID: 64, Прогнозована оцінка: 4.53\n",
            "Фільм ID: 169, Прогнозована оцінка: 4.53\n",
            "Фільм ID: 483, Прогнозована оцінка: 4.52\n",
            "Фільм ID: 114, Прогнозована оцінка: 4.49\n",
            "Фільм ID: 603, Прогнозована оцінка: 4.48\n",
            "Фільм ID: 12, Прогнозована оцінка: 4.47\n",
            "Фільм ID: 178, Прогнозована оцінка: 4.44\n",
            "Фільм ID: 480, Прогнозована оцінка: 4.42\n"
          ]
        }
      ],
      "source": [
        "!pip install scikit-surprise\n",
        "\n",
        "import pandas as pd\n",
        "from surprise import Dataset, Reader\n",
        "from surprise import SVD, KNNBasic\n",
        "from surprise.model_selection import cross_validate, train_test_split\n",
        "\n",
        "data = Dataset.load_builtin('ml-100k')\n",
        "\n",
        "df = pd.DataFrame(data.raw_ratings, columns=['user', 'item', 'rating', 'timestamp'])\n",
        "print(df.head())\n",
        "\n",
        "reader = Reader(rating_scale=(1, 5))\n",
        "data = Dataset.load_from_df(df[['user', 'item', 'rating']], reader)\n",
        "\n",
        "trainset, testset = train_test_split(data, test_size=0.2, random_state=42)\n",
        "\n",
        "algo1 = SVD()\n",
        "algo2 = KNNBasic()\n",
        "\n",
        "cv1 = cross_validate(algo1, data, measures=['MAE'], cv=5, verbose=True)\n",
        "cv2 = cross_validate(algo2, data, measures=['MAE'], cv=5, verbose=True)\n",
        "\n",
        "print(f'SVD MAE: {cv1[\"test_mae\"].mean()}')\n",
        "print(f'KNN Basic MAE: {cv2[\"test_mae\"].mean()}')\n",
        "\n",
        "best_algo = algo1 if cv1[\"test_mae\"].mean() < cv2[\"test_mae\"].mean() else algo2\n",
        "print(f'Найкращий алгоритм: {best_algo.__class__.__name__}')\n",
        "\n",
        "best_algo.fit(data.build_full_trainset())\n",
        "\n",
        "user_id = 196\n",
        "item_ids = df['item'].unique()\n",
        "recommendations = []\n",
        "\n",
        "for item_id in item_ids:\n",
        "    prediction = best_algo.predict(user_id, item_id)\n",
        "    recommendations.append((item_id, prediction.est))\n",
        "\n",
        "recommendations.sort(key=lambda x: x[1], reverse=True)\n",
        "\n",
        "top_n = recommendations[:10]\n",
        "print('Рекомендовані фільми для користувача 196:')\n",
        "for item_id, est in top_n:\n",
        "    print(f'Фільм ID: {item_id}, Прогнозована оцінка: {est:.2f}')\n"
      ]
    },
    {
      "cell_type": "markdown",
      "source": [
        "**Висновок:**\n",
        "\n",
        "Код реалізує рекомендаційну систему за допомогою бібліотеки Surprise, використовуючи датасет MovieLens 100K. Спочатку завантажується датасет, після чого реалізуються два алгоритми: SVD та KNNBasic. За допомогою крос-валідації підбираються оптимальні параметри, після чого вибирається найкращий алгоритм на основі середньої абсолютної помилки (MAE). Наприкінці, для конкретного користувача генеруються 10 рекомендацій фільмів на основі прогнозованих оцінок."
      ],
      "metadata": {
        "id": "V8cGeQRCgzDX"
      }
    },
    {
      "cell_type": "markdown",
      "source": [
        "**Завдання 2.**\n",
        "1. Побудуйте власну рекомендаційну систему.\n",
        "Оцініть її.\n",
        "2. Отримайте рекомендацію для певного користувача."
      ],
      "metadata": {
        "id": "FwyRgI8chCiy"
      }
    },
    {
      "cell_type": "markdown",
      "source": [],
      "metadata": {
        "id": "QGvpk5pChrVf"
      }
    },
    {
      "cell_type": "code",
      "source": [
        "!pip install scikit-surprise\n",
        "\n",
        "import pandas as pd\n",
        "from surprise import Dataset, Reader, SVD\n",
        "from surprise.model_selection import train_test_split\n",
        "from surprise import accuracy\n",
        "\n",
        "data = Dataset.load_builtin('ml-100k')\n",
        "df = pd.DataFrame(data.raw_ratings, columns=['user', 'item', 'rating', 'timestamp'])\n",
        "\n",
        "reader = Reader(rating_scale=(1, 5))\n",
        "data = Dataset.load_from_df(df[['user', 'item', 'rating']], reader)\n",
        "\n",
        "trainset, testset = train_test_split(data, test_size=0.2, random_state=42)\n",
        "algo = SVD()\n",
        "algo.fit(trainset)\n",
        "\n",
        "predictions = algo.test(testset)\n",
        "mae = accuracy.mae(predictions, verbose=True)\n",
        "\n",
        "user_id = 196\n",
        "item_ids = df['item'].unique()\n",
        "recommendations = []\n",
        "\n",
        "for item_id in item_ids:\n",
        "    prediction = algo.predict(user_id, item_id)\n",
        "    recommendations.append((item_id, prediction.est))\n",
        "\n",
        "recommendations.sort(key=lambda x: x[1], reverse=True)\n",
        "top_n = recommendations[:10]\n",
        "\n",
        "print('Рекомендовані фільми для користувача 196:')\n",
        "for item_id, est in top_n:\n",
        "    print(f'Фільм ID: {item_id}, Прогнозована оцінка: {est:.2f}')\n"
      ],
      "metadata": {
        "colab": {
          "base_uri": "https://localhost:8080/"
        },
        "id": "1QUkdMCXhWl6",
        "outputId": "bf5a8506-217b-493d-82d2-eb027497395d"
      },
      "execution_count": 2,
      "outputs": [
        {
          "output_type": "stream",
          "name": "stdout",
          "text": [
            "Requirement already satisfied: scikit-surprise in /usr/local/lib/python3.10/dist-packages (1.1.4)\n",
            "Requirement already satisfied: joblib>=1.2.0 in /usr/local/lib/python3.10/dist-packages (from scikit-surprise) (1.4.2)\n",
            "Requirement already satisfied: numpy>=1.19.5 in /usr/local/lib/python3.10/dist-packages (from scikit-surprise) (1.26.4)\n",
            "Requirement already satisfied: scipy>=1.6.0 in /usr/local/lib/python3.10/dist-packages (from scikit-surprise) (1.13.1)\n",
            "MAE:  0.7388\n",
            "Рекомендовані фільми для користувача 196:\n",
            "Фільм ID: 408, Прогнозована оцінка: 4.58\n",
            "Фільм ID: 318, Прогнозована оцінка: 4.56\n",
            "Фільм ID: 483, Прогнозована оцінка: 4.55\n",
            "Фільм ID: 64, Прогнозована оцінка: 4.53\n",
            "Фільм ID: 513, Прогнозована оцінка: 4.53\n",
            "Фільм ID: 169, Прогнозована оцінка: 4.48\n",
            "Фільм ID: 603, Прогнозована оцінка: 4.47\n",
            "Фільм ID: 12, Прогнозована оцінка: 4.44\n",
            "Фільм ID: 178, Прогнозована оцінка: 4.43\n",
            "Фільм ID: 480, Прогнозована оцінка: 4.40\n"
          ]
        }
      ]
    },
    {
      "cell_type": "markdown",
      "source": [
        "**Висновок:**\n",
        "\n",
        "У цьому завданні була побудована рекомендаційна система на основі датасету з рецензіями ml-100k, використовуючи алгоритм SVD. Після оцінки моделі за допомогою середньої абсолютної помилки (MAE) була отримана інформація про її точність. Завдяки прогнозуванню оцінок для фільмів користувача, система змогла запропонувати десять найкращих фільмів, що свідчить про її ефективність у створенні персоналізованих рекомендацій."
      ],
      "metadata": {
        "id": "9MWIHhz6huN6"
      }
    }
  ]
}