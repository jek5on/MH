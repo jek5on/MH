{
  "nbformat": 4,
  "nbformat_minor": 0,
  "metadata": {
    "colab": {
      "provenance": [],
      "authorship_tag": "ABX9TyOzz7Ea4qXpN8mOsA2EWNbE",
      "include_colab_link": true
    },
    "kernelspec": {
      "name": "python3",
      "display_name": "Python 3"
    },
    "language_info": {
      "name": "python"
    }
  },
  "cells": [
    {
      "cell_type": "markdown",
      "metadata": {
        "id": "view-in-github",
        "colab_type": "text"
      },
      "source": [
        "<a href=\"https://colab.research.google.com/github/jek5on/MH/blob/main/%D0%A1%D0%B2%D0%B0%D1%82%D0%B5%D0%BD%D0%BA%D0%BE_%D0%BF%D1%80_1.ipynb\" target=\"_parent\"><img src=\"https://colab.research.google.com/assets/colab-badge.svg\" alt=\"Open In Colab\"/></a>"
      ]
    },
    {
      "cell_type": "markdown",
      "source": [
        "#Лабораторна робота 1. Вступ до машинного навчання. Елементи лінійної алгебри.\n",
        "#Варіант 26"
      ],
      "metadata": {
        "id": "doHkYrh1a7Wy"
      }
    },
    {
      "cell_type": "markdown",
      "source": [
        "#Завдання 1.\n",
        "Створіть одновимірний масив (вектор) з оберненими значеннями факторіалів\n",
        "натуральних чисел, починаючи з 1, та виведіть його значення"
      ],
      "metadata": {
        "id": "RyYbCp3SgJEJ"
      }
    },
    {
      "cell_type": "code",
      "source": [
        "import numpy as np\n",
        "from math import factorial\n",
        "\n",
        "n = 10\n",
        "\n",
        "inverse_factorials = np.array([1 / factorial(i) for i in range(1, n+1)])\n",
        "\n",
        "print(inverse_factorials)"
      ],
      "metadata": {
        "colab": {
          "base_uri": "https://localhost:8080/"
        },
        "id": "o_1dyGG8gdfL",
        "outputId": "b51989f7-56c6-4caa-a118-d3693c062358"
      },
      "execution_count": 8,
      "outputs": [
        {
          "output_type": "stream",
          "name": "stdout",
          "text": [
            "[1.00000000e+00 5.00000000e-01 1.66666667e-01 4.16666667e-02\n",
            " 8.33333333e-03 1.38888889e-03 1.98412698e-04 2.48015873e-05\n",
            " 2.75573192e-06 2.75573192e-07]\n"
          ]
        }
      ]
    },
    {
      "cell_type": "markdown",
      "source": [
        "#Завдання 2.\n",
        "Створіть двовимірний масив (матрицю) розміром 3x3, заповніть його квадратами\n",
        "факторіалів кожного числа, починаючи з 1, та виведіть його значення."
      ],
      "metadata": {
        "id": "UU_Vo8w9bh9o"
      }
    },
    {
      "cell_type": "code",
      "source": [
        "import numpy as np\n",
        "from math import factorial\n",
        "\n",
        "matrix = np.array([[factorial(i)**2 for i in range(1, 10)]]).reshape(3, 3)\n",
        "\n",
        "print(matrix)"
      ],
      "metadata": {
        "colab": {
          "base_uri": "https://localhost:8080/"
        },
        "id": "eDi9WlJvcKhE",
        "outputId": "d3d34585-f8b6-45fa-9792-8a33e7845d81"
      },
      "execution_count": 6,
      "outputs": [
        {
          "output_type": "stream",
          "name": "stdout",
          "text": [
            "[[           1            4           36]\n",
            " [         576        14400       518400]\n",
            " [    25401600   1625702400 131681894400]]\n"
          ]
        }
      ]
    },
    {
      "cell_type": "markdown",
      "source": [
        "#Завдання 3.\n",
        "Створіть масив розміром 3x3, заповніть його випадковими натуральними числами від 1 до 10 та знайдіть мін елемент."
      ],
      "metadata": {
        "id": "yEzMf1e0cmRD"
      }
    },
    {
      "cell_type": "code",
      "source": [
        "import numpy as np\n",
        "\n",
        "matrix = np.random.randint(1, 11, size=(3, 3))\n",
        "\n",
        "min_element = np.min(matrix)\n",
        "\n",
        "print(\"Масив:\")\n",
        "print(matrix)\n",
        "print(\"Мінімальний елемент:\", min_element)"
      ],
      "metadata": {
        "colab": {
          "base_uri": "https://localhost:8080/"
        },
        "id": "KlHEX0uxcv5z",
        "outputId": "6251cb1a-78e6-4c87-ea61-a0f855e4cc7d"
      },
      "execution_count": 13,
      "outputs": [
        {
          "output_type": "stream",
          "name": "stdout",
          "text": [
            "Масив:\n",
            "[[ 8  3  2]\n",
            " [ 5  5  7]\n",
            " [ 7  6 10]]\n",
            "Мінімальний елемент: 2\n"
          ]
        }
      ]
    },
    {
      "cell_type": "markdown",
      "source": [
        "#Завдання 4.\n",
        "Створіть масив розміром 2x2, заповніть його випадковими дійсними числами від -1.2 до 1.2 та виведіть його значення."
      ],
      "metadata": {
        "id": "9UtrN0NXdJy0"
      }
    },
    {
      "cell_type": "code",
      "source": [
        "import numpy as np\n",
        "\n",
        "matrix = np.random.uniform(-1.2, 1.2, size=(2, 2))\n",
        "\n",
        "print(\"Масив:\")\n",
        "print(matrix)\n"
      ],
      "metadata": {
        "colab": {
          "base_uri": "https://localhost:8080/"
        },
        "id": "vR17euVmdYQu",
        "outputId": "d8c2c2dc-3968-4c6f-d9db-2f9803f45f51"
      },
      "execution_count": 16,
      "outputs": [
        {
          "output_type": "stream",
          "name": "stdout",
          "text": [
            "Масив:\n",
            "[[ 0.79298527  1.11084426]\n",
            " [-0.61511661  0.89244131]]\n"
          ]
        }
      ]
    },
    {
      "cell_type": "markdown",
      "source": [
        "#Завдання 5.\n",
        "Створіть два однакових масиви розміром 5, заповніть їх випадковими цілими числами в діапазоні від 10 до 15 та виконайте на них поелементні операції додавання, віднімання та множення."
      ],
      "metadata": {
        "id": "IIyvpWXxd0FJ"
      }
    },
    {
      "cell_type": "code",
      "source": [
        "import numpy as np\n",
        "\n",
        "array1 = np.random.randint(10, 16, size=5)\n",
        "array2 = np.copy(array1)\n",
        "\n",
        "sum_result = array1 + array2\n",
        "subtraction_result = array1 - array2\n",
        "multiplication_result = array1 * array2\n",
        "\n",
        "print(\"Масив 1:\", array1)\n",
        "print(\"Масив 2:\", array2)\n",
        "print(\"Результат додавання:\", sum_result)\n",
        "print(\"Результат віднімання:\", subtraction_result)\n",
        "print(\"Результат множення:\", multiplication_result)\n"
      ],
      "metadata": {
        "colab": {
          "base_uri": "https://localhost:8080/"
        },
        "id": "J0VG3ctUek9P",
        "outputId": "31875e7f-cedb-4bac-8a62-9944e0b3f5fe"
      },
      "execution_count": 18,
      "outputs": [
        {
          "output_type": "stream",
          "name": "stdout",
          "text": [
            "Масив 1: [13 14 11 10 10]\n",
            "Масив 2: [13 14 11 10 10]\n",
            "Результат додавання: [26 28 22 20 20]\n",
            "Результат віднімання: [0 0 0 0 0]\n",
            "Результат множення: [169 196 121 100 100]\n"
          ]
        }
      ]
    },
    {
      "cell_type": "markdown",
      "source": [
        "#Завдання 6.\n",
        "Створіть дві матриці 4х4, заповніть їх довільними цілими чслами від 10 до 100 та знайдіть їх добуток."
      ],
      "metadata": {
        "id": "qgELDh-cfMB9"
      }
    },
    {
      "cell_type": "code",
      "source": [
        "import numpy as np\n",
        "\n",
        "matrix1 = np.random.randint(10, 101, size=(4, 4))\n",
        "matrix2 = np.random.randint(10, 101, size=(4, 4))\n",
        "\n",
        "product = np.dot(matrix1, matrix2)\n",
        "\n",
        "print(\"Матриця 1:\")\n",
        "print(matrix1)\n",
        "print(\"Матриця 2:\")\n",
        "print(matrix2)\n",
        "print(\"Добуток матриць:\")\n",
        "print(product)"
      ],
      "metadata": {
        "colab": {
          "base_uri": "https://localhost:8080/"
        },
        "id": "OYCaHDIRfheF",
        "outputId": "a03778da-0a45-413e-ea58-0c014ea0ec5c"
      },
      "execution_count": 19,
      "outputs": [
        {
          "output_type": "stream",
          "name": "stdout",
          "text": [
            "Матриця 1:\n",
            "[[55 26 14 99]\n",
            " [90 33 87 66]\n",
            " [18 52 76 76]\n",
            " [46 10 30 19]]\n",
            "Матриця 2:\n",
            "[[20 34 94 70]\n",
            " [96 14 81 25]\n",
            " [10 15 37 43]\n",
            " [68 63 39 57]]\n",
            "Добуток матриць:\n",
            "[[10468  8681 11655 10745]\n",
            " [10326  8985 16926 14628]\n",
            " [11280  7268 11680 10160]\n",
            " [ 3472  3351  6985  5843]]\n"
          ]
        }
      ]
    },
    {
      "cell_type": "markdown",
      "source": [
        "#Завдання 7.\n",
        "Створіть дві матриці розміром 3x2 та 2x4, заповніть їх випадковими цілими числами в діапазоні від 1 до 5 та перемножте їх між собою.\n"
      ],
      "metadata": {
        "id": "2nRkjqY6f4bI"
      }
    },
    {
      "cell_type": "code",
      "source": [
        "import numpy as np\n",
        "\n",
        "matrix1 = np.random.randint(1, 6, size=(3, 2))\n",
        "\n",
        "matrix2 = np.random.randint(1, 6, size=(2, 4))\n",
        "\n",
        "product = np.dot(matrix1, matrix2)\n",
        "\n",
        "print(\"Матриця 3x2:\")\n",
        "print(matrix1)\n",
        "print(\"Матриця 2x4:\")\n",
        "print(matrix2)\n",
        "print(\"Добуток матриць (3x4):\")\n",
        "print(product)"
      ],
      "metadata": {
        "colab": {
          "base_uri": "https://localhost:8080/"
        },
        "id": "ax-0cGc2gaEh",
        "outputId": "9114fba0-58f6-499e-d46a-952cffe244ea"
      },
      "execution_count": 20,
      "outputs": [
        {
          "output_type": "stream",
          "name": "stdout",
          "text": [
            "Матриця 3x2:\n",
            "[[3 5]\n",
            " [5 1]\n",
            " [3 3]]\n",
            "Матриця 2x4:\n",
            "[[5 1 2 2]\n",
            " [3 2 5 4]]\n",
            "Добуток матриць (3x4):\n",
            "[[30 13 31 26]\n",
            " [28  7 15 14]\n",
            " [24  9 21 18]]\n"
          ]
        }
      ]
    },
    {
      "cell_type": "markdown",
      "source": [
        "#Завдання 8.\n",
        "Створіть матрицю розміром 3x3, заповніть її випадковими цілими числами в діапазоні від 1 до 12 та знайдіть її обернену матрицю.\n"
      ],
      "metadata": {
        "id": "Bp4MKlbOgaad"
      }
    },
    {
      "cell_type": "code",
      "source": [
        "import numpy as np\n",
        "\n",
        "matrix = np.random.randint(1, 13, size=(3, 3))\n",
        "\n",
        "if np.linalg.det(matrix) == 0:\n",
        "    print(\"Матриця є виродженою і не має оберненої матриці.\")\n",
        "else:\n",
        "    inverse_matrix = np.linalg.inv(matrix)\n",
        "\n",
        "    print(\"Матриця 3x3:\")\n",
        "    print(matrix)\n",
        "    print(\"Обернена матриця:\")\n",
        "    print(inverse_matrix)"
      ],
      "metadata": {
        "colab": {
          "base_uri": "https://localhost:8080/"
        },
        "id": "cWmuWZqLgaya",
        "outputId": "4210f2a8-ea1e-4877-a60a-197bddddc356"
      },
      "execution_count": 21,
      "outputs": [
        {
          "output_type": "stream",
          "name": "stdout",
          "text": [
            "Матриця 3x3:\n",
            "[[ 9  3 12]\n",
            " [ 1  4  4]\n",
            " [ 4  1 10]]\n",
            "Обернена матриця:\n",
            "[[ 0.22222222 -0.11111111 -0.22222222]\n",
            " [ 0.03703704  0.25925926 -0.14814815]\n",
            " [-0.09259259  0.01851852  0.2037037 ]]\n"
          ]
        }
      ]
    },
    {
      "cell_type": "markdown",
      "source": [
        "#Завдання 9.\n",
        "Створіть матрицю розміром 4x4, заповніть її випадковими цілими числами в діапазоні від 0 до 1 та транспонуйте її."
      ],
      "metadata": {
        "id": "WQ9umuVJgbAk"
      }
    },
    {
      "cell_type": "code",
      "source": [
        "import numpy as np\n",
        "\n",
        "matrix = np.random.randint(0, 2, size=(4, 4))\n",
        "\n",
        "transposed_matrix = np.transpose(matrix)\n",
        "\n",
        "print(\"Матриця 4x4:\")\n",
        "print(matrix)\n",
        "print(\"Транспонована матриця:\")\n",
        "print(transposed_matrix)"
      ],
      "metadata": {
        "colab": {
          "base_uri": "https://localhost:8080/"
        },
        "id": "Ay-u3tBFgnhv",
        "outputId": "2bbc3520-e9f5-4b77-a871-159779604e78"
      },
      "execution_count": 22,
      "outputs": [
        {
          "output_type": "stream",
          "name": "stdout",
          "text": [
            "Матриця 4x4:\n",
            "[[0 1 0 0]\n",
            " [1 0 1 0]\n",
            " [1 1 0 0]\n",
            " [1 0 1 0]]\n",
            "Транспонована матриця:\n",
            "[[0 1 1 1]\n",
            " [1 0 1 0]\n",
            " [0 1 0 1]\n",
            " [0 0 0 0]]\n"
          ]
        }
      ]
    },
    {
      "cell_type": "markdown",
      "source": [
        "#Завдання 10.\n",
        "Створіть матрицю розміром 3x4 та вектор розміром 4x1, заповніть матрицю\n",
        "випадковими цілими числами в діапазоні від 1 до 10, а вектор - випадковими дійсними числами від 0 до 1, знайдіть добуток матриці на вектор."
      ],
      "metadata": {
        "id": "HWlI9-BWgoE7"
      }
    },
    {
      "cell_type": "code",
      "source": [
        "import numpy as np\n",
        "\n",
        "matrix = np.random.randint(1, 11, size=(3, 4))\n",
        "\n",
        "vector = np.random.uniform(0, 1, size=(4, 1))\n",
        "\n",
        "product = np.dot(matrix, vector)\n",
        "\n",
        "print(\"Матриця 3x4:\")\n",
        "print(matrix)\n",
        "print(\"Вектор 4x1:\")\n",
        "print(vector)\n",
        "print(\"Добуток матриці і вектора:\")\n",
        "print(product)"
      ],
      "metadata": {
        "colab": {
          "base_uri": "https://localhost:8080/"
        },
        "id": "ZI0dY_x6gpoF",
        "outputId": "82f0625d-cf37-4459-bdd4-5337dcae41fd"
      },
      "execution_count": 23,
      "outputs": [
        {
          "output_type": "stream",
          "name": "stdout",
          "text": [
            "Матриця 3x4:\n",
            "[[ 1  4  7  7]\n",
            " [ 8  9  7 10]\n",
            " [ 2 10  1  7]]\n",
            "Вектор 4x1:\n",
            "[[0.57005651]\n",
            " [0.95038356]\n",
            " [0.12557676]\n",
            " [0.98997594]]\n",
            "Добуток матриці і вектора:\n",
            "[[12.18045971]\n",
            " [23.89270092]\n",
            " [17.69935699]]\n"
          ]
        }
      ]
    },
    {
      "cell_type": "markdown",
      "source": [
        "#Завдання 11.\n",
        "Створіть матрицю розміром 2x3 та вектор розміром 3x1, заповніть матрицю\n",
        "випадковими дійсними числами від 0 до 1, а вектор - випадковими цілими числами в діапазоні від 1 до 10, знайдіть добуток матриці на вектор."
      ],
      "metadata": {
        "id": "Jp5f0MQkgqLJ"
      }
    },
    {
      "cell_type": "code",
      "source": [
        "import numpy as np\n",
        "\n",
        "matrix = np.random.uniform(0, 1, size=(2, 3))\n",
        "\n",
        "vector = np.random.randint(1, 11, size=(3, 1))\n",
        "\n",
        "product = np.dot(matrix, vector)\n",
        "\n",
        "print(\"Матриця 2x3:\")\n",
        "print(matrix)\n",
        "print(\"Вектор 3x1:\")\n",
        "print(vector)\n",
        "print(\"Добуток матриці і вектора:\")\n",
        "print(product)"
      ],
      "metadata": {
        "colab": {
          "base_uri": "https://localhost:8080/"
        },
        "id": "ABfqlXOPgtnW",
        "outputId": "a00e4cc6-a616-4cca-c7f2-76e9a37f57a2"
      },
      "execution_count": 24,
      "outputs": [
        {
          "output_type": "stream",
          "name": "stdout",
          "text": [
            "Матриця 2x3:\n",
            "[[0.79334109 0.54910722 0.31983122]\n",
            " [0.32420993 0.99255717 0.60066954]]\n",
            "Вектор 3x1:\n",
            "[[5]\n",
            " [3]\n",
            " [3]]\n",
            "Добуток матриці і вектора:\n",
            "[[6.57352075]\n",
            " [6.40072979]]\n"
          ]
        }
      ]
    },
    {
      "cell_type": "markdown",
      "source": [
        "#Завдання 12.\n",
        "Створіть дві матриці розміром 3x3, заповніть їх випадковими цілими числами в\n",
        "діапазоні від 1 до 3та знайдіть добуток всіх елементів обох матриць."
      ],
      "metadata": {
        "id": "ke03owi0gt3L"
      }
    },
    {
      "cell_type": "code",
      "source": [
        "import numpy as np\n",
        "\n",
        "matrix1 = np.random.randint(1, 4, size=(3, 3))\n",
        "matrix2 = np.random.randint(1, 4, size=(3, 3))\n",
        "\n",
        "product_matrix1 = np.prod(matrix1)\n",
        "product_matrix2 = np.prod(matrix2)\n",
        "\n",
        "print(\"Матриця 1:\")\n",
        "print(matrix1)\n",
        "print(\"Добуток всіх елементів Матриці 1:\", product_matrix1)\n",
        "\n",
        "print(\"Матриця 2:\")\n",
        "print(matrix2)\n",
        "print(\"Добуток всіх елементів Матриці 2:\", product_matrix2)"
      ],
      "metadata": {
        "colab": {
          "base_uri": "https://localhost:8080/"
        },
        "id": "V7xxyrxlgvE-",
        "outputId": "24876d1b-b6b4-4bc7-870e-4532330630d5"
      },
      "execution_count": 25,
      "outputs": [
        {
          "output_type": "stream",
          "name": "stdout",
          "text": [
            "Матриця 1:\n",
            "[[1 3 3]\n",
            " [2 3 2]\n",
            " [2 2 1]]\n",
            "Добуток всіх елементів Матриці 1: 432\n",
            "Матриця 2:\n",
            "[[2 3 2]\n",
            " [2 3 2]\n",
            " [1 3 2]]\n",
            "Добуток всіх елементів Матриці 2: 864\n"
          ]
        }
      ]
    },
    {
      "cell_type": "markdown",
      "source": [
        "#Завдання 13.\n",
        "Створіть дві матриці розміром 3x3, заповніть їх випадковими цілими числами в\n",
        "діапазоні від -5 до 5 та знайдіть добуток їх елементів."
      ],
      "metadata": {
        "id": "2rLZgCTSgvii"
      }
    },
    {
      "cell_type": "code",
      "source": [
        "import numpy as np\n",
        "\n",
        "matrix1 = np.random.randint(-5, 6, size=(3, 3))\n",
        "matrix2 = np.random.randint(-5, 6, size=(3, 3))\n",
        "\n",
        "product_matrix1 = np.prod(matrix1)\n",
        "product_matrix2 = np.prod(matrix2)\n",
        "\n",
        "print(\"Матриця 1:\")\n",
        "print(matrix1)\n",
        "print(\"Добуток всіх елементів Матриці 1:\", product_matrix1)\n",
        "\n",
        "print(\"Матриця 2:\")\n",
        "print(matrix2)\n",
        "print(\"Добуток всіх елементів Матриці 2:\", product_matrix2)"
      ],
      "metadata": {
        "colab": {
          "base_uri": "https://localhost:8080/"
        },
        "id": "DU0IUw6Kgxy-",
        "outputId": "8d767124-829c-44f8-814a-6c8107cb21d1"
      },
      "execution_count": 26,
      "outputs": [
        {
          "output_type": "stream",
          "name": "stdout",
          "text": [
            "Матриця 1:\n",
            "[[ 3 -1  5]\n",
            " [ 0 -4 -1]\n",
            " [ 0 -3  3]]\n",
            "Добуток всіх елементів Матриці 1: 0\n",
            "Матриця 2:\n",
            "[[ 5  1  3]\n",
            " [ 5 -4 -1]\n",
            " [ 4  4 -1]]\n",
            "Добуток всіх елементів Матриці 2: -4800\n"
          ]
        }
      ]
    },
    {
      "cell_type": "markdown",
      "source": [
        "#Завдання 14.\n",
        "Створіть матрицю розміром 3x3, заповніть її випадковими цілими числами в діапазоні від 1 до 10 та знайдіть середнє значення елементів на головній діагоналі.\n"
      ],
      "metadata": {
        "id": "5InnkdV4gyRh"
      }
    },
    {
      "cell_type": "code",
      "source": [
        "import numpy as np\n",
        "\n",
        "matrix = np.random.randint(1, 11, size=(3, 3))\n",
        "\n",
        "diagonal_elements = np.diag(matrix)\n",
        "\n",
        "mean_diagonal = np.mean(diagonal_elements)\n",
        "\n",
        "print(\"Матриця 3x3:\")\n",
        "print(matrix)\n",
        "print(\"Середнє значення елементів головної діагоналі:\", mean_diagonal)"
      ],
      "metadata": {
        "colab": {
          "base_uri": "https://localhost:8080/"
        },
        "id": "w95A3dHogzju",
        "outputId": "8be86064-9c6e-45a4-df36-e1b6b363a69b"
      },
      "execution_count": 27,
      "outputs": [
        {
          "output_type": "stream",
          "name": "stdout",
          "text": [
            "Матриця 3x3:\n",
            "[[4 4 9]\n",
            " [7 3 3]\n",
            " [6 4 4]]\n",
            "Середнє значення елементів головної діагоналі: 3.6666666666666665\n"
          ]
        }
      ]
    },
    {
      "cell_type": "markdown",
      "source": [
        "#Завдання 15.\n",
        "Створіть матрицю розміром 3x3, заповніть її випадковими дійсними числами в\n",
        "діапазоні від -1 до 1 та знайдіть вектор-стовпчик, що містить найменший елемент у кожному стовпці матриці.\n"
      ],
      "metadata": {
        "id": "fQZYKvvMg0Z9"
      }
    },
    {
      "cell_type": "code",
      "source": [
        "import numpy as np\n",
        "\n",
        "matrix = np.random.uniform(-1, 1, size=(3, 3))\n",
        "\n",
        "min_elements = np.min(matrix, axis=0)\n",
        "\n",
        "print(\"Матриця 3x3:\")\n",
        "print(matrix)\n",
        "print(\"Вектор-стовпчик з найменшими елементами кожного стовпця:\")\n",
        "print(min_elements)"
      ],
      "metadata": {
        "colab": {
          "base_uri": "https://localhost:8080/"
        },
        "id": "6m2X-9zrg12f",
        "outputId": "0555cd50-aa8c-4da8-c886-f270b97ddaf4"
      },
      "execution_count": 28,
      "outputs": [
        {
          "output_type": "stream",
          "name": "stdout",
          "text": [
            "Матриця 3x3:\n",
            "[[ 0.02904736  0.4330029  -0.09722506]\n",
            " [ 0.11255004 -0.55432771 -0.46473534]\n",
            " [ 0.31956393  0.23156733 -0.57549976]]\n",
            "Вектор-стовпчик з найменшими елементами кожного стовпця:\n",
            "[ 0.02904736 -0.55432771 -0.57549976]\n"
          ]
        }
      ]
    },
    {
      "cell_type": "markdown",
      "source": [
        "#Висновок:\n",
        "Під час виконання лабораторної роботи були вирішені кілька завдань, що допомогли краще зрозуміти основи роботи з масивами та матрицями за допомогою бібліотеки NumPy в Python:\n",
        "\n",
        "1. **Одновимірний масив обернених факторіалів:** Ми створили масив, в якому зберігаються обернені значення факторіалів натуральних чисел, що показало, як працювати з факторіалами у Python.\n",
        "\n",
        "2. **Матриця з квадратами факторіалів:** Було сформовано матрицю, де кожен елемент – це квадрат факторіала відповідного числа. Це допомогло закріпити навички роботи з двовимірними масивами.\n",
        "\n",
        "3. **Масив з випадковими натуральними числа:** Ми заповнили масив випадковими натуральними числами і знайшли мінімальне значення серед них, що продемонструвало, як виконувати базові операції з масивами.\n",
        "\n",
        "4. **Матриця з випадковими дійсними числами:** Створили матрицю з випадковими дійсними числами, що дозволило краще зрозуміти, як працювати з випадковими значеннями.\n",
        "\n",
        "5. **Поелементні операції над масивами:** Провели операції додавання, віднімання та множення над двома однаковими масивами, що показало, як здійснювати арифметичні операції з масивами.\n",
        "\n",
        "6. **Добуток матриць:** Знайшли добуток двох матриць розміром 4x4, що допомогло зрозуміти матричні обчислення.\n",
        "\n",
        "7. **Множення матриць різних розмірів:** Виконали множення матриць розміром 3x2 і 2x4, що показало важливість відповідності розмірів при матричних операціях.\n",
        "\n",
        "8. **Транспонування матриці:** Провели транспонування матриці розміром 4x4, що допомогло зрозуміти, як змінюється матриця при транспонуванні.\n",
        "\n",
        "9. **Множення матриці на вектор:** Обчислили добуток матриці 3x4 на вектор 4x1, що продемонструвало, як матриці і вектори взаємодіють.\n",
        "\n",
        "10. **Множення матриці на вектор з іншими розмірами:** Провели множення матриці 2x3 на вектор 3x1, що допомогло зрозуміти, як зміна розмірів впливає на результати.\n",
        "\n",
        "11. **Добуток елементів матриць:** Знайшли добуток всіх елементів матриць з випадковими числами від -5 до 5, що дозволило дослідити, як негативні значення впливають на результати.\n",
        "\n",
        "12. **Середнє значення головної діагоналі:** Обчислили середнє значення елементів головної діагоналі матриці 3x3, що показало, як працювати з діагональними елементами матриць.\n",
        "\n",
        "13. **Найменші елементи в стовпцях матриці:** Знайшли найменші елементи в кожному стовпці матриці 3x3, що допомогло закріпити навички роботи з стовпцями матриць.\n",
        "\n",
        "Ці завдання допомогли закріпити знання з роботи з матрицями та векторами, а також покращити навички в обчисленнях за допомогою NumPy."
      ],
      "metadata": {
        "id": "rAM5z1XwiHXF"
      }
    }
  ]
}